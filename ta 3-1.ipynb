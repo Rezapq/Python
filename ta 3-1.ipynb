{
 "cells": [
  {
   "cell_type": "code",
   "execution_count": 1,
   "id": "d78367b0",
   "metadata": {},
   "outputs": [
    {
     "name": "stdout",
     "output_type": "stream",
     "text": [
      "reza\n",
      "abedi\n",
      "20\n"
     ]
    }
   ],
   "source": [
    "def rez (name,lname,age): \n",
    "    print (name)\n",
    "    print(lname)\n",
    "    print(age)\n",
    "    \n",
    "rez(\"reza\",\"abedi\",20)"
   ]
  },
  {
   "cell_type": "code",
   "execution_count": null,
   "id": "da2eb9a6",
   "metadata": {},
   "outputs": [],
   "source": []
  }
 ],
 "metadata": {
  "kernelspec": {
   "display_name": "Python 3 (ipykernel)",
   "language": "python",
   "name": "python3"
  },
  "language_info": {
   "codemirror_mode": {
    "name": "ipython",
    "version": 3
   },
   "file_extension": ".py",
   "mimetype": "text/x-python",
   "name": "python",
   "nbconvert_exporter": "python",
   "pygments_lexer": "ipython3",
   "version": "3.7.6"
  }
 },
 "nbformat": 4,
 "nbformat_minor": 5
}
