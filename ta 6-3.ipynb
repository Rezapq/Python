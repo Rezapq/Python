{
 "cells": [
  {
   "cell_type": "code",
   "execution_count": 3,
   "id": "8878dae2",
   "metadata": {},
   "outputs": [
    {
     "name": "stdout",
     "output_type": "stream",
     "text": [
      "Enter a text:reza abedi asli 323 back\n",
      "Enter a character:a\n",
      "4\n"
     ]
    }
   ],
   "source": [
    "def a(txt,chr):\n",
    "    i=0\n",
    "    j=0\n",
    "    while(i<len(txt)):\n",
    "        if(txt[i]==chr):\n",
    "            j+=1\n",
    "        i+=1\n",
    "    print(j)\n",
    "a(input('Enter a txt:'),input('Enter a char:'))"
   ]
  },
  {
   "cell_type": "code",
   "execution_count": null,
   "id": "820f198d",
   "metadata": {},
   "outputs": [],
   "source": []
  }
 ],
 "metadata": {
  "kernelspec": {
   "display_name": "Python 3 (ipykernel)",
   "language": "python",
   "name": "python3"
  },
  "language_info": {
   "codemirror_mode": {
    "name": "ipython",
    "version": 3
   },
   "file_extension": ".py",
   "mimetype": "text/x-python",
   "name": "python",
   "nbconvert_exporter": "python",
   "pygments_lexer": "ipython3",
   "version": "3.7.6"
  }
 },
 "nbformat": 4,
 "nbformat_minor": 5
}
