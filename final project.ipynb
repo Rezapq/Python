{
 "cells": [
  {
   "cell_type": "code",
   "execution_count": 2,
   "id": "73bfaac2",
   "metadata": {},
   "outputs": [
    {
     "name": "stdout",
     "output_type": "stream",
     "text": [
      "عدد را وارد کنید :5\n",
      "5 یک عدد اول است.\n"
     ]
    }
   ],
   "source": [
    "x = int(input(\"عدد را وارد کنید :\"))\n",
    "i=2 \n",
    "y=x//2\n",
    "while i<=y:\n",
    "    if not x%i :\n",
    "        print(x, \"یک عدد اول نیست.\")\n",
    "        break\n",
    "    i+=1\n",
    "else :\n",
    "    print(x, \"یک عدد اول است.\")"
   ]
  },
  {
   "cell_type": "code",
   "execution_count": null,
   "id": "a7d04845",
   "metadata": {},
   "outputs": [],
   "source": []
  }
 ],
 "metadata": {
  "kernelspec": {
   "display_name": "Python 3 (ipykernel)",
   "language": "python",
   "name": "python3"
  },
  "language_info": {
   "codemirror_mode": {
    "name": "ipython",
    "version": 3
   },
   "file_extension": ".py",
   "mimetype": "text/x-python",
   "name": "python",
   "nbconvert_exporter": "python",
   "pygments_lexer": "ipython3",
   "version": "3.7.6"
  }
 },
 "nbformat": 4,
 "nbformat_minor": 5
}
