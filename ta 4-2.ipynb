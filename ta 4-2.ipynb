{
 "cells": [
  {
   "cell_type": "code",
   "execution_count": 3,
   "id": "0d8e45a0",
   "metadata": {},
   "outputs": [
    {
     "name": "stdout",
     "output_type": "stream",
     "text": [
      "first a number5\n",
      "second a number5\n",
      "7.0710678118654755\n"
     ]
    }
   ],
   "source": [
    "import math \n",
    "a = (int(input(\"first a number\")))\n",
    "b = (int(input(\"second a number\")))\n",
    "print(math.sqrt(((a)**2)+((b)**2)))"
   ]
  },
  {
   "cell_type": "code",
   "execution_count": null,
   "id": "b9185e10",
   "metadata": {},
   "outputs": [],
   "source": []
  }
 ],
 "metadata": {
  "kernelspec": {
   "display_name": "Python 3 (ipykernel)",
   "language": "python",
   "name": "python3"
  },
  "language_info": {
   "codemirror_mode": {
    "name": "ipython",
    "version": 3
   },
   "file_extension": ".py",
   "mimetype": "text/x-python",
   "name": "python",
   "nbconvert_exporter": "python",
   "pygments_lexer": "ipython3",
   "version": "3.7.6"
  }
 },
 "nbformat": 4,
 "nbformat_minor": 5
}
