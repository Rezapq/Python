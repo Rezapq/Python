{
 "cells": [
  {
   "cell_type": "code",
   "execution_count": 1,
   "id": "89f69128",
   "metadata": {},
   "outputs": [
    {
     "data": {
      "text/plain": [
       "3.0"
      ]
     },
     "execution_count": 1,
     "metadata": {},
     "output_type": "execute_result"
    }
   ],
   "source": [
    "import math as m  #ezafe krdn library ba esm (m)\n",
    "\n",
    "m.sqrt(9) # aval esm lib ra minevisim bad oon tabe ra minevisim "
   ]
  },
  {
   "cell_type": "code",
   "execution_count": null,
   "id": "282c7321",
   "metadata": {},
   "outputs": [],
   "source": []
  }
 ],
 "metadata": {
  "kernelspec": {
   "display_name": "Python 3 (ipykernel)",
   "language": "python",
   "name": "python3"
  },
  "language_info": {
   "codemirror_mode": {
    "name": "ipython",
    "version": 3
   },
   "file_extension": ".py",
   "mimetype": "text/x-python",
   "name": "python",
   "nbconvert_exporter": "python",
   "pygments_lexer": "ipython3",
   "version": "3.7.6"
  }
 },
 "nbformat": 4,
 "nbformat_minor": 5
}
