{
 "cells": [
  {
   "cell_type": "code",
   "execution_count": 11,
   "id": "8ba565be",
   "metadata": {},
   "outputs": [
    {
     "name": "stdout",
     "output_type": "stream",
     "text": [
      "Enter a number: 5\n",
      "5\n",
      "4\n",
      "3\n",
      "2\n",
      "1\n",
      "120\n"
     ]
    }
   ],
   "source": [
    "def ta(a):\n",
    "    if(a<=1):\n",
    "        print(a)\n",
    "        return(1)\n",
    "    else:\n",
    "        print(a)\n",
    "        return(a*ta(a-1))\n",
    "print(ta(int(input(\"Enter a number: \"))))\n",
    "\n",
    "#کمک از بچه ها"
   ]
  },
  {
   "cell_type": "code",
   "execution_count": null,
   "id": "e884b782",
   "metadata": {},
   "outputs": [],
   "source": []
  }
 ],
 "metadata": {
  "kernelspec": {
   "display_name": "Python 3 (ipykernel)",
   "language": "python",
   "name": "python3"
  },
  "language_info": {
   "codemirror_mode": {
    "name": "ipython",
    "version": 3
   },
   "file_extension": ".py",
   "mimetype": "text/x-python",
   "name": "python",
   "nbconvert_exporter": "python",
   "pygments_lexer": "ipython3",
   "version": "3.7.6"
  }
 },
 "nbformat": 4,
 "nbformat_minor": 5
}
