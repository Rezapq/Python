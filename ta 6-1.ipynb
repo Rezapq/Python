{
 "cells": [
  {
   "cell_type": "code",
   "execution_count": 7,
   "id": "ab0420f0",
   "metadata": {},
   "outputs": [
    {
     "name": "stdout",
     "output_type": "stream",
     "text": [
      "enter a text: reza1234\n",
      "4321azer\n"
     ]
    }
   ],
   "source": [
    "def a(t):\n",
    "    c=''\n",
    "    for j in t:\n",
    "        c=j+c\n",
    "    print(c)\n",
    "\n",
    "a(input('enter a txt: '))"
   ]
  },
  {
   "cell_type": "code",
   "execution_count": null,
   "id": "faa8a95d",
   "metadata": {},
   "outputs": [],
   "source": []
  }
 ],
 "metadata": {
  "kernelspec": {
   "display_name": "Python 3 (ipykernel)",
   "language": "python",
   "name": "python3"
  },
  "language_info": {
   "codemirror_mode": {
    "name": "ipython",
    "version": 3
   },
   "file_extension": ".py",
   "mimetype": "text/x-python",
   "name": "python",
   "nbconvert_exporter": "python",
   "pygments_lexer": "ipython3",
   "version": "3.7.6"
  }
 },
 "nbformat": 4,
 "nbformat_minor": 5
}
