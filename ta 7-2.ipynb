{
 "cells": [
  {
   "cell_type": "code",
   "execution_count": 12,
   "id": "f85946a2",
   "metadata": {},
   "outputs": [
    {
     "name": "stdout",
     "output_type": "stream",
     "text": [
      "Enter txt1: reza\n",
      "Enter txt2: b\n",
      "False\n"
     ]
    }
   ],
   "source": [
    "def a (b,c):\n",
    "    a =b[::-1]\n",
    "    for i in a:\n",
    "        if (c==i):\n",
    "            print(True)\n",
    "        \n",
    "        else:\n",
    "            print(False)\n",
    "        break\n",
    "a(input('enter txt1: '),input('enter txt2: '))"
   ]
  },
  {
   "cell_type": "code",
   "execution_count": null,
   "id": "aab6c3f5",
   "metadata": {},
   "outputs": [],
   "source": []
  }
 ],
 "metadata": {
  "kernelspec": {
   "display_name": "Python 3 (ipykernel)",
   "language": "python",
   "name": "python3"
  },
  "language_info": {
   "codemirror_mode": {
    "name": "ipython",
    "version": 3
   },
   "file_extension": ".py",
   "mimetype": "text/x-python",
   "name": "python",
   "nbconvert_exporter": "python",
   "pygments_lexer": "ipython3",
   "version": "3.7.6"
  }
 },
 "nbformat": 4,
 "nbformat_minor": 5
}
