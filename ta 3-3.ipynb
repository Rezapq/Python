{
 "cells": [
  {
   "cell_type": "code",
   "execution_count": 2,
   "id": "14649e41",
   "metadata": {},
   "outputs": [
    {
     "name": "stdout",
     "output_type": "stream",
     "text": [
      "taq:  2\n"
     ]
    }
   ],
   "source": [
    "def baq (a,b):\n",
    "    print (\"baq:\", a%b)\n",
    "taq(22,5)"
   ]
  },
  {
   "cell_type": "code",
   "execution_count": null,
   "id": "75248667",
   "metadata": {},
   "outputs": [],
   "source": []
  }
 ],
 "metadata": {
  "kernelspec": {
   "display_name": "Python 3 (ipykernel)",
   "language": "python",
   "name": "python3"
  },
  "language_info": {
   "codemirror_mode": {
    "name": "ipython",
    "version": 3
   },
   "file_extension": ".py",
   "mimetype": "text/x-python",
   "name": "python",
   "nbconvert_exporter": "python",
   "pygments_lexer": "ipython3",
   "version": "3.7.6"
  }
 },
 "nbformat": 4,
 "nbformat_minor": 5
}
