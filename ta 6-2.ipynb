{
 "cells": [
  {
   "cell_type": "code",
   "execution_count": 2,
   "id": "8fbfe219",
   "metadata": {},
   "outputs": [
    {
     "name": "stdout",
     "output_type": "stream",
     "text": [
      "Enter a text:reza\n",
      "Enter a character:a\n",
      "3\n"
     ]
    }
   ],
   "source": [
    "def a(txt,chr):\n",
    "    i=0\n",
    "    while(i<len(txt)):\n",
    "        if(txt[i]==chr):\n",
    "            print(i)\n",
    "        i+=1\n",
    "a(input('enter a txt:'),input('enter a char:'))"
   ]
  },
  {
   "cell_type": "code",
   "execution_count": null,
   "id": "95fe2f14",
   "metadata": {},
   "outputs": [],
   "source": []
  }
 ],
 "metadata": {
  "kernelspec": {
   "display_name": "Python 3 (ipykernel)",
   "language": "python",
   "name": "python3"
  },
  "language_info": {
   "codemirror_mode": {
    "name": "ipython",
    "version": 3
   },
   "file_extension": ".py",
   "mimetype": "text/x-python",
   "name": "python",
   "nbconvert_exporter": "python",
   "pygments_lexer": "ipython3",
   "version": "3.7.6"
  }
 },
 "nbformat": 4,
 "nbformat_minor": 5
}
