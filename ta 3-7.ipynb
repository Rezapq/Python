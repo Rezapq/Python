{
 "cells": [
  {
   "cell_type": "code",
   "execution_count": 7,
   "id": "b47b0538",
   "metadata": {},
   "outputs": [
    {
     "name": "stdout",
     "output_type": "stream",
     "text": [
      "draw\n"
     ]
    }
   ],
   "source": [
    "\n",
    "def compare(a,b):\n",
    "\n",
    "      if(a>b):\n",
    "        print(\"bigger\")\n",
    "        \n",
    "      elif(a==b):\n",
    "        print(\"draw\")\n",
    "        \n",
    "      else:\n",
    "        print(\"smaller\")\n",
    "        \n",
    "compare(30,30)"
   ]
  },
  {
   "cell_type": "code",
   "execution_count": null,
   "id": "0eecd1f4",
   "metadata": {},
   "outputs": [],
   "source": []
  }
 ],
 "metadata": {
  "kernelspec": {
   "display_name": "Python 3 (ipykernel)",
   "language": "python",
   "name": "python3"
  },
  "language_info": {
   "codemirror_mode": {
    "name": "ipython",
    "version": 3
   },
   "file_extension": ".py",
   "mimetype": "text/x-python",
   "name": "python",
   "nbconvert_exporter": "python",
   "pygments_lexer": "ipython3",
   "version": "3.7.6"
  }
 },
 "nbformat": 4,
 "nbformat_minor": 5
}
