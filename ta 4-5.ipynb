{
 "cells": [
  {
   "cell_type": "code",
   "execution_count": 6,
   "id": "34744f43",
   "metadata": {},
   "outputs": [
    {
     "name": "stdout",
     "output_type": "stream",
     "text": [
      "enter a number5\n",
      "enter a number5\n",
      "enter a number5\n",
      "12.416198487095663\n"
     ]
    }
   ],
   "source": [
    "import math as m \n",
    "a = (int(input(\"enter a number\")))\n",
    "b = (int(input(\"enter a number\")))\n",
    "c = (int(input(\"enter a number\")))\n",
    "print(a+(m.sqrt((((a)**2)+((b)**2))+c)))"
   ]
  },
  {
   "cell_type": "code",
   "execution_count": null,
   "id": "3f8a15b0",
   "metadata": {},
   "outputs": [],
   "source": []
  }
 ],
 "metadata": {
  "kernelspec": {
   "display_name": "Python 3 (ipykernel)",
   "language": "python",
   "name": "python3"
  },
  "language_info": {
   "codemirror_mode": {
    "name": "ipython",
    "version": 3
   },
   "file_extension": ".py",
   "mimetype": "text/x-python",
   "name": "python",
   "nbconvert_exporter": "python",
   "pygments_lexer": "ipython3",
   "version": "3.7.6"
  }
 },
 "nbformat": 4,
 "nbformat_minor": 5
}
